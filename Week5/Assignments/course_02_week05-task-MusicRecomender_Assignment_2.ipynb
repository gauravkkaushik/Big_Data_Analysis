{
 "cells": [
  {
   "cell_type": "markdown",
   "metadata": {},
   "source": [
    "#### Common warnings:\n",
    "\n",
    "1. __Backup your solution into the 'work' directory inside the home directory ('/home/jovyan'). It is the only one that state will be saved over sessions.__\n",
    "\n",
    "1. Please, ensure that you call the right interpreter (python2 or python3). Do not write just \"python\" without the major version. There is no guarantee that any particular version of Python is set as the default one in the Grading system.\n",
    "\n",
    "1. One cell must contain only one programming language.\n",
    "E.g. if a cell contains Python code and you also want to call a bash-command (using “!”) in it, you should move the bash to another cell.\n",
    "\n",
    "1. Our IPython converter is an improved version of the standard converter Nbconvert and it can process most of Jupyter's magic commands correctly (e.g. it understands \"%%bash\" and executes the cell as a \"bash\"-script). However, we highly recommend to avoid magics wherever possible.\n",
    "\n",
    "#### Spark specific warnings:\n",
    "\n",
    "1. It is a good practice to run Spark with master \"yarn\". However, containered system's performance is limited. If you see repeating Py4JavaErrors or Py4JNetworkErrors exceptions which you assume are not relevant to your code, feel free to change master to “local”.\n",
    "\n",
    "1. You should eliminate extra symbols in output (such as quotes, brackets etc.). When you finally get the resulting dataframe it is easier to print wiki.take(1) instead of traverse RDD using for cycle. But in this case a lot of junk symbols will be printed like: `[['Anarchism', 'is', .. ]]`. See the right output example in the task.\n",
    "\n",
    "#### Task hint\n",
    "Each subsequent of these tasks is a continuation of the previous one. So, you may use the same IPython notebook for all the programming assignments in this week."
   ]
  },
  {
   "cell_type": "code",
   "execution_count": 32,
   "metadata": {},
   "outputs": [],
   "source": [
    "from pyspark.sql import SparkSession\n",
    "from pyspark.sql import functions as f\n",
    "from pyspark.sql import Window\n",
    "\n",
    "spark_session = SparkSession.builder.enableHiveSupport().master(\"yarn\").getOrCreate()"
   ]
  },
  {
   "cell_type": "code",
   "execution_count": 33,
   "metadata": {},
   "outputs": [],
   "source": [
    "data = spark_session.read.parquet(\"/data/sample264\")\n",
    "meta = spark_session.read.parquet(\"/data/meta\")"
   ]
  },
  {
   "cell_type": "code",
   "execution_count": 34,
   "metadata": {},
   "outputs": [
    {
     "name": "stdout",
     "output_type": "stream",
     "text": [
      "+------+-------+--------+----------+\n",
      "|userId|trackId|artistId| timestamp|\n",
      "+------+-------+--------+----------+\n",
      "| 13065| 944906|  978428|1501588527|\n",
      "|101897| 799685|  989262|1501555608|\n",
      "|215049| 871513|  988199|1501604269|\n",
      "|309769| 857670|  987809|1501540265|\n",
      "|397833| 903510|  994595|1501597615|\n",
      "|501769| 818149|  994975|1501577955|\n",
      "|601353| 958990|  973098|1501602467|\n",
      "|710921| 916226|  972031|1501611582|\n",
      "|  6743| 801006|  994339|1501584964|\n",
      "|152407| 913509|  994334|1501571055|\n",
      "+------+-------+--------+----------+\n",
      "only showing top 10 rows\n",
      "\n"
     ]
    }
   ],
   "source": [
    "data.show(10)"
   ]
  },
  {
   "cell_type": "code",
   "execution_count": 36,
   "metadata": {},
   "outputs": [],
   "source": [
    "user_track = data.groupBy('userId', 'trackId').count()"
   ]
  },
  {
   "cell_type": "code",
   "execution_count": 37,
   "metadata": {},
   "outputs": [
    {
     "name": "stdout",
     "output_type": "stream",
     "text": [
      "+------+-------+-----+\n",
      "|userId|trackId|count|\n",
      "+------+-------+-----+\n",
      "|185109| 870292|    4|\n",
      "| 93053| 915614|    1|\n",
      "| 55026| 949518|    1|\n",
      "|640605| 841340|    3|\n",
      "|103552| 942680|    3|\n",
      "|227285| 944606|    2|\n",
      "|105324| 928370|    1|\n",
      "|647294| 887536|    1|\n",
      "|324195| 821053|    1|\n",
      "|513364| 857897|   10|\n",
      "|712953| 965106|    1|\n",
      "|497886| 811766|   13|\n",
      "|211774| 876669|    1|\n",
      "|663443| 915937|    1|\n",
      "|313526| 858827|    1|\n",
      "|275334| 865671|    1|\n",
      "|154082| 825174|    1|\n",
      "| 23946| 912683|    1|\n",
      "|193100| 864299|    1|\n",
      "|503381| 861413|    2|\n",
      "+------+-------+-----+\n",
      "only showing top 20 rows\n",
      "\n"
     ]
    }
   ],
   "source": [
    "user_track.show()"
   ]
  },
  {
   "cell_type": "markdown",
   "metadata": {},
   "source": [
    "#### Normalization could be done by next function"
   ]
  },
  {
   "cell_type": "code",
   "execution_count": 38,
   "metadata": {},
   "outputs": [],
   "source": [
    "from pyspark.sql import Window\n",
    "from pyspark.sql.functions import row_number, sum,col\n",
    "\n",
    "# normalize weights of its edges (divide the weight of each edge on a sum of weights of all edges).\n",
    "def norm(df, key1, key2, field, n): \n",
    "    \n",
    "    window = Window.partitionBy(key1).orderBy(col(field).desc())\n",
    "        \n",
    "    topsDF = df.withColumn(\"row_number\", row_number().over(window)) \\\n",
    "        .filter(col(\"row_number\") <= n) \\\n",
    "        .drop(col(\"row_number\")) \n",
    "        \n",
    "    tmpDF = topsDF.groupBy(col(key1)).agg(col(key1), sum(col(field)).alias(\"sum_\" + field))\n",
    "   \n",
    "    normalizedDF = topsDF.join(tmpDF, key1, \"inner\") \\\n",
    "        .withColumn(\"norm_\" + field, col(field) / col(\"sum_\" + field)) \\\n",
    "        .cache()\n",
    "\n",
    "    return normalizedDF"
   ]
  },
  {
   "cell_type": "code",
   "execution_count": 39,
   "metadata": {},
   "outputs": [],
   "source": [
    "user_track_norm = norm(user_track, 'userId', 'trackId', 'count', 1000) \\\n",
    "        .select('userId', 'trackId', 'norm_count')"
   ]
  },
  {
   "cell_type": "code",
   "execution_count": 40,
   "metadata": {},
   "outputs": [
    {
     "data": {
      "text/plain": [
       "[Row(userId=3175, trackId=947718, norm_count=0.1111111111111111),\n",
       " Row(userId=3175, trackId=940951, norm_count=0.1111111111111111),\n",
       " Row(userId=3175, trackId=845631, norm_count=0.1111111111111111),\n",
       " Row(userId=3175, trackId=864690, norm_count=0.1111111111111111),\n",
       " Row(userId=3175, trackId=831005, norm_count=0.1111111111111111),\n",
       " Row(userId=3175, trackId=930432, norm_count=0.1111111111111111),\n",
       " Row(userId=3175, trackId=965012, norm_count=0.1111111111111111),\n",
       " Row(userId=3175, trackId=858940, norm_count=0.1111111111111111),\n",
       " Row(userId=3175, trackId=829307, norm_count=0.1111111111111111),\n",
       " Row(userId=5518, trackId=961148, norm_count=0.5),\n",
       " Row(userId=5518, trackId=873588, norm_count=0.3333333333333333),\n",
       " Row(userId=5518, trackId=930964, norm_count=0.16666666666666666),\n",
       " Row(userId=5803, trackId=810419, norm_count=1.0),\n",
       " Row(userId=6654, trackId=802183, norm_count=0.2),\n",
       " Row(userId=6654, trackId=886091, norm_count=0.2),\n",
       " Row(userId=6654, trackId=825094, norm_count=0.2),\n",
       " Row(userId=6654, trackId=846873, norm_count=0.2),\n",
       " Row(userId=6654, trackId=928999, norm_count=0.2),\n",
       " Row(userId=7253, trackId=800755, norm_count=0.125),\n",
       " Row(userId=7253, trackId=935631, norm_count=0.125),\n",
       " Row(userId=7253, trackId=890344, norm_count=0.125),\n",
       " Row(userId=7253, trackId=808719, norm_count=0.125),\n",
       " Row(userId=7253, trackId=828014, norm_count=0.125),\n",
       " Row(userId=7253, trackId=902508, norm_count=0.125),\n",
       " Row(userId=7253, trackId=882221, norm_count=0.125),\n",
       " Row(userId=7253, trackId=800219, norm_count=0.125),\n",
       " Row(userId=7340, trackId=831521, norm_count=0.1111111111111111),\n",
       " Row(userId=7340, trackId=924948, norm_count=0.1111111111111111),\n",
       " Row(userId=7340, trackId=862698, norm_count=0.1111111111111111),\n",
       " Row(userId=7340, trackId=957174, norm_count=0.1111111111111111),\n",
       " Row(userId=7340, trackId=802265, norm_count=0.1111111111111111),\n",
       " Row(userId=7340, trackId=914932, norm_count=0.1111111111111111),\n",
       " Row(userId=7340, trackId=874040, norm_count=0.1111111111111111),\n",
       " Row(userId=7340, trackId=811958, norm_count=0.1111111111111111),\n",
       " Row(userId=7340, trackId=914001, norm_count=0.1111111111111111),\n",
       " Row(userId=8086, trackId=808528, norm_count=1.0),\n",
       " Row(userId=10206, trackId=827033, norm_count=1.0),\n",
       " Row(userId=12046, trackId=833610, norm_count=0.25),\n",
       " Row(userId=12046, trackId=941743, norm_count=0.25),\n",
       " Row(userId=12046, trackId=831005, norm_count=0.25),\n",
       " Row(userId=12046, trackId=861717, norm_count=0.25),\n",
       " Row(userId=17420, trackId=910603, norm_count=0.4117647058823529),\n",
       " Row(userId=17420, trackId=893916, norm_count=0.058823529411764705),\n",
       " Row(userId=17420, trackId=819466, norm_count=0.058823529411764705),\n",
       " Row(userId=17420, trackId=903928, norm_count=0.058823529411764705),\n",
       " Row(userId=17420, trackId=876227, norm_count=0.058823529411764705),\n",
       " Row(userId=17420, trackId=917537, norm_count=0.058823529411764705),\n",
       " Row(userId=17420, trackId=915991, norm_count=0.058823529411764705),\n",
       " Row(userId=17420, trackId=871282, norm_count=0.058823529411764705),\n",
       " Row(userId=17420, trackId=899130, norm_count=0.058823529411764705)]"
      ]
     },
     "execution_count": 40,
     "metadata": {},
     "output_type": "execute_result"
    }
   ],
   "source": [
    "user_track_norm.take(50)"
   ]
  },
  {
   "cell_type": "code",
   "execution_count": 41,
   "metadata": {},
   "outputs": [],
   "source": [
    "window = Window.orderBy(f.col('norm_count').desc())\n",
    "    \n",
    "user_TrackList = user_track_norm.withColumn('position', f.rank().over(window)) \\\n",
    "    .filter(f.col('position') < 40) \\\n",
    "    .orderBy('userId', 'trackId') \\\n",
    "    .select('userId', 'trackId') \\\n",
    "    .take(40)"
   ]
  },
  {
   "cell_type": "code",
   "execution_count": 42,
   "metadata": {},
   "outputs": [
    {
     "name": "stdout",
     "output_type": "stream",
     "text": [
      "66 965774\n",
      "116 867268\n",
      "128 852564\n",
      "131 880170\n",
      "195 946408\n",
      "215 860111\n",
      "235 897176\n",
      "300 857973\n",
      "321 915545\n",
      "328 943482\n",
      "333 818202\n",
      "346 864911\n",
      "356 961308\n",
      "428 943572\n",
      "431 902497\n",
      "445 831381\n",
      "488 841340\n",
      "542 815388\n",
      "617 946395\n",
      "649 901672\n",
      "658 937522\n",
      "662 881433\n",
      "698 935934\n",
      "708 952432\n",
      "746 879259\n",
      "747 879259\n",
      "776 946408\n",
      "784 806468\n",
      "806 866581\n",
      "811 948017\n",
      "837 799685\n",
      "901 871513\n",
      "923 879322\n",
      "934 940714\n",
      "957 945183\n",
      "989 878364\n",
      "999 967768\n",
      "1006 962774\n",
      "1049 849484\n",
      "1057 920458\n"
     ]
    }
   ],
   "source": [
    "for val in user_TrackList:\n",
    "    print(\"%s %s\" % val)"
   ]
  }
 ],
 "metadata": {
  "kernelspec": {
   "display_name": "Python 3",
   "language": "python",
   "name": "python3"
  },
  "language_info": {
   "codemirror_mode": {
    "name": "ipython",
    "version": 3
   },
   "file_extension": ".py",
   "mimetype": "text/x-python",
   "name": "python",
   "nbconvert_exporter": "python",
   "pygments_lexer": "ipython3",
   "version": "3.6.6"
  }
 },
 "nbformat": 4,
 "nbformat_minor": 2
}
