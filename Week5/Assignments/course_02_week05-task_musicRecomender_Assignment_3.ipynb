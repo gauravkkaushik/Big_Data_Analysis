{
 "cells": [
  {
   "cell_type": "markdown",
   "metadata": {},
   "source": [
    "#### Common warnings:\n",
    "\n",
    "1. __Backup your solution into the 'work' directory inside the home directory ('/home/jovyan'). It is the only one that state will be saved over sessions.__\n",
    "\n",
    "1. Please, ensure that you call the right interpreter (python2 or python3). Do not write just \"python\" without the major version. There is no guarantee that any particular version of Python is set as the default one in the Grading system.\n",
    "\n",
    "1. One cell must contain only one programming language.\n",
    "E.g. if a cell contains Python code and you also want to call a bash-command (using “!”) in it, you should move the bash to another cell.\n",
    "\n",
    "1. Our IPython converter is an improved version of the standard converter Nbconvert and it can process most of Jupyter's magic commands correctly (e.g. it understands \"%%bash\" and executes the cell as a \"bash\"-script). However, we highly recommend to avoid magics wherever possible.\n",
    "\n",
    "#### Spark specific warnings:\n",
    "\n",
    "1. It is a good practice to run Spark with master \"yarn\". However, containered system's performance is limited. If you see repeating Py4JavaErrors or Py4JNetworkErrors exceptions which you assume are not relevant to your code, feel free to change master to “local”.\n",
    "\n",
    "1. You should eliminate extra symbols in output (such as quotes, brackets etc.). When you finally get the resulting dataframe it is easier to print wiki.take(1) instead of traverse RDD using for cycle. But in this case a lot of junk symbols will be printed like: `[['Anarchism', 'is', .. ]]`. See the right output example in the task.\n",
    "\n",
    "#### Task hint\n",
    "Each subsequent of these tasks is a continuation of the previous one. So, you may use the same IPython notebook for all the programming assignments in this week."
   ]
  },
  {
   "cell_type": "code",
   "execution_count": 43,
   "metadata": {},
   "outputs": [],
   "source": [
    "from pyspark.sql import SparkSession\n",
    "from pyspark.sql import functions as f\n",
    "from pyspark.sql import Window\n",
    "\n",
    "spark_session = SparkSession.builder.enableHiveSupport().master(\"yarn\").getOrCreate()"
   ]
  },
  {
   "cell_type": "code",
   "execution_count": 44,
   "metadata": {},
   "outputs": [],
   "source": [
    "data = spark_session.read.parquet(\"/data/sample264\")\n",
    "meta = spark_session.read.parquet(\"/data/meta\")"
   ]
  },
  {
   "cell_type": "code",
   "execution_count": 45,
   "metadata": {},
   "outputs": [
    {
     "name": "stdout",
     "output_type": "stream",
     "text": [
      "+------+-------+--------+----------+\n",
      "|userId|trackId|artistId| timestamp|\n",
      "+------+-------+--------+----------+\n",
      "| 13065| 944906|  978428|1501588527|\n",
      "|101897| 799685|  989262|1501555608|\n",
      "|215049| 871513|  988199|1501604269|\n",
      "|309769| 857670|  987809|1501540265|\n",
      "|397833| 903510|  994595|1501597615|\n",
      "|501769| 818149|  994975|1501577955|\n",
      "|601353| 958990|  973098|1501602467|\n",
      "|710921| 916226|  972031|1501611582|\n",
      "|  6743| 801006|  994339|1501584964|\n",
      "|152407| 913509|  994334|1501571055|\n",
      "+------+-------+--------+----------+\n",
      "only showing top 10 rows\n",
      "\n"
     ]
    }
   ],
   "source": [
    "data.show(10)"
   ]
  },
  {
   "cell_type": "code",
   "execution_count": 49,
   "metadata": {},
   "outputs": [],
   "source": [
    "user_artist = data.groupBy('userId', 'artistId').count()"
   ]
  },
  {
   "cell_type": "code",
   "execution_count": 50,
   "metadata": {},
   "outputs": [
    {
     "name": "stdout",
     "output_type": "stream",
     "text": [
      "+------+--------+-----+\n",
      "|userId|artistId|count|\n",
      "+------+--------+-----+\n",
      "|484714| 1000564|    2|\n",
      "|685378|  974357|    8|\n",
      "|531701|  969480|    5|\n",
      "|341232|  977291|    1|\n",
      "|554281|  985827|    1|\n",
      "|395708|  975337|    1|\n",
      "|646244| 1001300|    2|\n",
      "|108592|  991179|    1|\n",
      "|245658|  997265|    3|\n",
      "|485786|  993060|   20|\n",
      "|277044| 1000564|    7|\n",
      "|  1533|  995917|    3|\n",
      "| 47200| 1000564|    1|\n",
      "|612770|  986570|    1|\n",
      "|  1750|  985681|    1|\n",
      "|731637|  979654|    1|\n",
      "|481421|  975605|    4|\n",
      "|490000|  969480|    1|\n",
      "|718583|  982782|    1|\n",
      "|790358|  997721|    1|\n",
      "+------+--------+-----+\n",
      "only showing top 20 rows\n",
      "\n"
     ]
    }
   ],
   "source": [
    "user_artist.show()"
   ]
  },
  {
   "cell_type": "markdown",
   "metadata": {},
   "source": [
    "#### Normalization could be done by next function"
   ]
  },
  {
   "cell_type": "code",
   "execution_count": 51,
   "metadata": {},
   "outputs": [],
   "source": [
    "from pyspark.sql import Window\n",
    "from pyspark.sql.functions import row_number, sum,col\n",
    "\n",
    "# normalize weights of its edges (divide the weight of each edge on a sum of weights of all edges).\n",
    "def norm(df, key1, key2, field, n): \n",
    "    \n",
    "    window = Window.partitionBy(key1).orderBy(col(field).desc())\n",
    "        \n",
    "    topsDF = df.withColumn(\"row_number\", row_number().over(window)) \\\n",
    "        .filter(col(\"row_number\") <= n) \\\n",
    "        .drop(col(\"row_number\")) \n",
    "        \n",
    "    tmpDF = topsDF.groupBy(col(key1)).agg(col(key1), sum(col(field)).alias(\"sum_\" + field))\n",
    "   \n",
    "    normalizedDF = topsDF.join(tmpDF, key1, \"inner\") \\\n",
    "        .withColumn(\"norm_\" + field, col(field) / col(\"sum_\" + field)) \\\n",
    "        .cache()\n",
    "\n",
    "    return normalizedDF"
   ]
  },
  {
   "cell_type": "code",
   "execution_count": 52,
   "metadata": {},
   "outputs": [],
   "source": [
    "user_artist_norm = norm(user_artist, 'userId', 'artistId', 'count', 100) \\\n",
    "        .select('userId', 'artistId', 'norm_count')"
   ]
  },
  {
   "cell_type": "code",
   "execution_count": 53,
   "metadata": {},
   "outputs": [
    {
     "data": {
      "text/plain": [
       "[Row(userId=3175, artistId=981306, norm_count=0.2222222222222222),\n",
       " Row(userId=3175, artistId=995274, norm_count=0.1111111111111111),\n",
       " Row(userId=3175, artistId=986492, norm_count=0.1111111111111111),\n",
       " Row(userId=3175, artistId=976051, norm_count=0.1111111111111111),\n",
       " Row(userId=3175, artistId=1000709, norm_count=0.1111111111111111),\n",
       " Row(userId=3175, artistId=984798, norm_count=0.1111111111111111),\n",
       " Row(userId=3175, artistId=969751, norm_count=0.1111111111111111),\n",
       " Row(userId=3175, artistId=1000564, norm_count=0.1111111111111111),\n",
       " Row(userId=5518, artistId=978963, norm_count=0.5),\n",
       " Row(userId=5518, artistId=984128, norm_count=0.3333333333333333),\n",
       " Row(userId=5518, artistId=969429, norm_count=0.16666666666666666),\n",
       " Row(userId=5803, artistId=982335, norm_count=1.0),\n",
       " Row(userId=6654, artistId=1002715, norm_count=0.2),\n",
       " Row(userId=6654, artistId=985758, norm_count=0.2),\n",
       " Row(userId=6654, artistId=987351, norm_count=0.2),\n",
       " Row(userId=6654, artistId=987809, norm_count=0.2),\n",
       " Row(userId=6654, artistId=995126, norm_count=0.2),\n",
       " Row(userId=7253, artistId=971296, norm_count=0.125),\n",
       " Row(userId=7253, artistId=1000423, norm_count=0.125),\n",
       " Row(userId=7253, artistId=1004591, norm_count=0.125),\n",
       " Row(userId=7253, artistId=977585, norm_count=0.125),\n",
       " Row(userId=7253, artistId=984476, norm_count=0.125),\n",
       " Row(userId=7253, artistId=1004234, norm_count=0.125),\n",
       " Row(userId=7253, artistId=1003241, norm_count=0.125),\n",
       " Row(userId=7253, artistId=997327, norm_count=0.125),\n",
       " Row(userId=7340, artistId=1000878, norm_count=0.3333333333333333),\n",
       " Row(userId=7340, artistId=999012, norm_count=0.2222222222222222),\n",
       " Row(userId=7340, artistId=983446, norm_count=0.1111111111111111),\n",
       " Row(userId=7340, artistId=999684, norm_count=0.1111111111111111),\n",
       " Row(userId=7340, artistId=991455, norm_count=0.1111111111111111),\n",
       " Row(userId=7340, artistId=973469, norm_count=0.1111111111111111),\n",
       " Row(userId=8086, artistId=981226, norm_count=1.0),\n",
       " Row(userId=10206, artistId=971296, norm_count=1.0),\n",
       " Row(userId=12046, artistId=981306, norm_count=0.25),\n",
       " Row(userId=12046, artistId=1003454, norm_count=0.25),\n",
       " Row(userId=12046, artistId=992808, norm_count=0.25),\n",
       " Row(userId=12046, artistId=981254, norm_count=0.25),\n",
       " Row(userId=17420, artistId=970240, norm_count=1.0),\n",
       " Row(userId=18498, artistId=982854, norm_count=0.3333333333333333),\n",
       " Row(userId=18498, artistId=977324, norm_count=0.3333333333333333),\n",
       " Row(userId=18498, artistId=969853, norm_count=0.3333333333333333),\n",
       " Row(userId=22097, artistId=983588, norm_count=1.0),\n",
       " Row(userId=22373, artistId=987411, norm_count=0.3333333333333333),\n",
       " Row(userId=22373, artistId=997848, norm_count=0.3333333333333333),\n",
       " Row(userId=22373, artistId=967986, norm_count=0.3333333333333333),\n",
       " Row(userId=24354, artistId=995138, norm_count=0.6666666666666666),\n",
       " Row(userId=24354, artistId=974073, norm_count=0.3333333333333333),\n",
       " Row(userId=26623, artistId=997484, norm_count=0.5),\n",
       " Row(userId=26623, artistId=979245, norm_count=0.5),\n",
       " Row(userId=29993, artistId=995274, norm_count=0.13043478260869565)]"
      ]
     },
     "execution_count": 53,
     "metadata": {},
     "output_type": "execute_result"
    }
   ],
   "source": [
    "user_artist_norm.take(50)"
   ]
  },
  {
   "cell_type": "code",
   "execution_count": 58,
   "metadata": {},
   "outputs": [],
   "source": [
    "window = Window.orderBy(f.col('norm_count').desc())\n",
    "    \n",
    "user_ArtistList = user_artist_norm.withColumn('position', f.rank().over(window)) \\\n",
    "    .filter(f.col('position') < 40) \\\n",
    "    .orderBy('userId', 'artistId') \\\n",
    "    .select('userId', 'artistId') \\\n",
    "    .take(40)"
   ]
  },
  {
   "cell_type": "code",
   "execution_count": 59,
   "metadata": {},
   "outputs": [
    {
     "name": "stdout",
     "output_type": "stream",
     "text": [
      "66 993426\n",
      "116 974937\n",
      "128 1003021\n",
      "131 983068\n",
      "195 997265\n",
      "215 991696\n",
      "235 990642\n",
      "288 1000564\n",
      "300 1003362\n",
      "321 986172\n",
      "328 967986\n",
      "333 1000416\n",
      "346 982037\n",
      "356 974846\n",
      "374 1003167\n",
      "428 993161\n",
      "431 969340\n",
      "445 970387\n",
      "488 970525\n",
      "542 969751\n",
      "612 987351\n",
      "617 970240\n",
      "649 973851\n",
      "658 973232\n",
      "662 975279\n",
      "698 995788\n",
      "708 968848\n",
      "746 972032\n",
      "747 972032\n",
      "776 997265\n",
      "784 969853\n",
      "806 995126\n",
      "811 996436\n",
      "837 989262\n",
      "901 988199\n",
      "923 977066\n",
      "934 990860\n",
      "957 991171\n",
      "989 975339\n",
      "999 968823\n"
     ]
    }
   ],
   "source": [
    "for val in user_ArtistList:\n",
    "    print(\"%s %s\" % val)"
   ]
  }
 ],
 "metadata": {
  "kernelspec": {
   "display_name": "Python 3",
   "language": "python",
   "name": "python3"
  },
  "language_info": {
   "codemirror_mode": {
    "name": "ipython",
    "version": 3
   },
   "file_extension": ".py",
   "mimetype": "text/x-python",
   "name": "python",
   "nbconvert_exporter": "python",
   "pygments_lexer": "ipython3",
   "version": "3.6.6"
  }
 },
 "nbformat": 4,
 "nbformat_minor": 2
}
