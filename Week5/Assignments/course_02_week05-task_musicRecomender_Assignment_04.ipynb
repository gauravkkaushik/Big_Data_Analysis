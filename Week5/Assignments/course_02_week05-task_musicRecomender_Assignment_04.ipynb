{
 "cells": [
  {
   "cell_type": "markdown",
   "metadata": {},
   "source": [
    "#### Common warnings:\n",
    "\n",
    "1. __Backup your solution into the 'work' directory inside the home directory ('/home/jovyan'). It is the only one that state will be saved over sessions.__\n",
    "\n",
    "1. Please, ensure that you call the right interpreter (python2 or python3). Do not write just \"python\" without the major version. There is no guarantee that any particular version of Python is set as the default one in the Grading system.\n",
    "\n",
    "1. One cell must contain only one programming language.\n",
    "E.g. if a cell contains Python code and you also want to call a bash-command (using “!”) in it, you should move the bash to another cell.\n",
    "\n",
    "1. Our IPython converter is an improved version of the standard converter Nbconvert and it can process most of Jupyter's magic commands correctly (e.g. it understands \"%%bash\" and executes the cell as a \"bash\"-script). However, we highly recommend to avoid magics wherever possible.\n",
    "\n",
    "#### Spark specific warnings:\n",
    "\n",
    "1. It is a good practice to run Spark with master \"yarn\". However, containered system's performance is limited. If you see repeating Py4JavaErrors or Py4JNetworkErrors exceptions which you assume are not relevant to your code, feel free to change master to “local”.\n",
    "\n",
    "1. You should eliminate extra symbols in output (such as quotes, brackets etc.). When you finally get the resulting dataframe it is easier to print wiki.take(1) instead of traverse RDD using for cycle. But in this case a lot of junk symbols will be printed like: `[['Anarchism', 'is', .. ]]`. See the right output example in the task.\n",
    "\n",
    "#### Task hint\n",
    "Each subsequent of these tasks is a continuation of the previous one. So, you may use the same IPython notebook for all the programming assignments in this week."
   ]
  },
  {
   "cell_type": "code",
   "execution_count": 61,
   "metadata": {},
   "outputs": [],
   "source": [
    "from pyspark.sql import SparkSession\n",
    "from pyspark.sql import functions as f\n",
    "from pyspark.sql import Window\n",
    "\n",
    "spark_session = SparkSession.builder.enableHiveSupport().master(\"yarn\").getOrCreate()"
   ]
  },
  {
   "cell_type": "code",
   "execution_count": 62,
   "metadata": {},
   "outputs": [],
   "source": [
    "data = spark_session.read.parquet(\"/data/sample264\")\n",
    "meta = spark_session.read.parquet(\"/data/meta\")"
   ]
  },
  {
   "cell_type": "code",
   "execution_count": 63,
   "metadata": {},
   "outputs": [
    {
     "name": "stdout",
     "output_type": "stream",
     "text": [
      "+------+-------+--------+----------+\n",
      "|userId|trackId|artistId| timestamp|\n",
      "+------+-------+--------+----------+\n",
      "| 13065| 944906|  978428|1501588527|\n",
      "|101897| 799685|  989262|1501555608|\n",
      "|215049| 871513|  988199|1501604269|\n",
      "|309769| 857670|  987809|1501540265|\n",
      "|397833| 903510|  994595|1501597615|\n",
      "|501769| 818149|  994975|1501577955|\n",
      "|601353| 958990|  973098|1501602467|\n",
      "|710921| 916226|  972031|1501611582|\n",
      "|  6743| 801006|  994339|1501584964|\n",
      "|152407| 913509|  994334|1501571055|\n",
      "+------+-------+--------+----------+\n",
      "only showing top 10 rows\n",
      "\n"
     ]
    }
   ],
   "source": [
    "data.show(10)"
   ]
  },
  {
   "cell_type": "code",
   "execution_count": 64,
   "metadata": {},
   "outputs": [],
   "source": [
    "artist_track = data.groupBy('artistId', 'trackId').count()"
   ]
  },
  {
   "cell_type": "code",
   "execution_count": 65,
   "metadata": {
    "scrolled": false
   },
   "outputs": [
    {
     "name": "stdout",
     "output_type": "stream",
     "text": [
      "+--------+-------+-----+\n",
      "|artistId|trackId|count|\n",
      "+--------+-------+-----+\n",
      "|  986534| 829140|    5|\n",
      "|  995135| 967720|   25|\n",
      "|  983387| 829641|  135|\n",
      "|  969750| 955248|   29|\n",
      "|  970395| 929329|   23|\n",
      "|  988199| 870619|   82|\n",
      "|  995788| 885715|   16|\n",
      "|  987932| 958532|   36|\n",
      "| 1000709| 852389|    1|\n",
      "|  991186| 824970|    2|\n",
      "|  977073| 864053|   12|\n",
      "|  994213| 844903|   23|\n",
      "|  978874| 851005|    2|\n",
      "|  983741| 948079|    1|\n",
      "|  969750| 842192|    1|\n",
      "|  997782| 860339|   37|\n",
      "|  997189| 944578|   15|\n",
      "|  993554| 823329|   14|\n",
      "|  997983| 851182|    2|\n",
      "|  983132| 847276|   12|\n",
      "+--------+-------+-----+\n",
      "only showing top 20 rows\n",
      "\n"
     ]
    }
   ],
   "source": [
    "artist_track.show()"
   ]
  },
  {
   "cell_type": "markdown",
   "metadata": {},
   "source": [
    "#### Normalization could be done by next function"
   ]
  },
  {
   "cell_type": "code",
   "execution_count": 51,
   "metadata": {},
   "outputs": [],
   "source": [
    "from pyspark.sql import Window\n",
    "from pyspark.sql.functions import row_number, sum,col\n",
    "\n",
    "# normalize weights of its edges (divide the weight of each edge on a sum of weights of all edges).\n",
    "def norm(df, key1, key2, field, n): \n",
    "    \n",
    "    window = Window.partitionBy(key1).orderBy(col(field).desc())\n",
    "        \n",
    "    topsDF = df.withColumn(\"row_number\", row_number().over(window)) \\\n",
    "        .filter(col(\"row_number\") <= n) \\\n",
    "        .drop(col(\"row_number\")) \n",
    "        \n",
    "    tmpDF = topsDF.groupBy(col(key1)).agg(col(key1), sum(col(field)).alias(\"sum_\" + field))\n",
    "   \n",
    "    normalizedDF = topsDF.join(tmpDF, key1, \"inner\") \\\n",
    "        .withColumn(\"norm_\" + field, col(field) / col(\"sum_\" + field)) \\\n",
    "        .cache()\n",
    "\n",
    "    return normalizedDF"
   ]
  },
  {
   "cell_type": "code",
   "execution_count": 67,
   "metadata": {},
   "outputs": [],
   "source": [
    "artist_track_norm = norm(artist_track, 'artistId', 'trackId', 'count', 100) \\\n",
    "        .select('artistId', 'trackId', 'norm_count')"
   ]
  },
  {
   "cell_type": "code",
   "execution_count": 68,
   "metadata": {},
   "outputs": [
    {
     "data": {
      "text/plain": [
       "[Row(artistId=968694, trackId=827354, norm_count=0.25),\n",
       " Row(artistId=968694, trackId=820606, norm_count=0.25),\n",
       " Row(artistId=968694, trackId=897139, norm_count=0.25),\n",
       " Row(artistId=968694, trackId=925696, norm_count=0.25),\n",
       " Row(artistId=969344, trackId=933592, norm_count=1.0),\n",
       " Row(artistId=969479, trackId=959227, norm_count=0.44166666666666665),\n",
       " Row(artistId=969479, trackId=819606, norm_count=0.2),\n",
       " Row(artistId=969479, trackId=929291, norm_count=0.10833333333333334),\n",
       " Row(artistId=969479, trackId=798826, norm_count=0.075),\n",
       " Row(artistId=969479, trackId=890444, norm_count=0.05),\n",
       " Row(artistId=969479, trackId=826621, norm_count=0.041666666666666664),\n",
       " Row(artistId=969479, trackId=860239, norm_count=0.025),\n",
       " Row(artistId=969479, trackId=882651, norm_count=0.016666666666666666),\n",
       " Row(artistId=969479, trackId=886945, norm_count=0.008333333333333333),\n",
       " Row(artistId=969479, trackId=944749, norm_count=0.008333333333333333),\n",
       " Row(artistId=969479, trackId=927174, norm_count=0.008333333333333333),\n",
       " Row(artistId=969479, trackId=835469, norm_count=0.008333333333333333),\n",
       " Row(artistId=969479, trackId=891099, norm_count=0.008333333333333333),\n",
       " Row(artistId=969923, trackId=917084, norm_count=0.9615384615384616),\n",
       " Row(artistId=969923, trackId=906636, norm_count=0.038461538461538464),\n",
       " Row(artistId=971217, trackId=912587, norm_count=1.0),\n",
       " Row(artistId=972191, trackId=800412, norm_count=0.7346938775510204),\n",
       " Row(artistId=972191, trackId=875946, norm_count=0.09183673469387756),\n",
       " Row(artistId=972191, trackId=938888, norm_count=0.07142857142857142),\n",
       " Row(artistId=972191, trackId=865573, norm_count=0.04081632653061224),\n",
       " Row(artistId=972191, trackId=918290, norm_count=0.04081632653061224),\n",
       " Row(artistId=972191, trackId=863486, norm_count=0.02040816326530612),\n",
       " Row(artistId=972783, trackId=850892, norm_count=1.0),\n",
       " Row(artistId=973051, trackId=835465, norm_count=0.6153846153846154),\n",
       " Row(artistId=973051, trackId=873398, norm_count=0.3076923076923077),\n",
       " Row(artistId=973051, trackId=957808, norm_count=0.07692307692307693),\n",
       " Row(artistId=973727, trackId=828228, norm_count=1.0),\n",
       " Row(artistId=973920, trackId=888186, norm_count=0.5),\n",
       " Row(artistId=973920, trackId=853124, norm_count=0.5),\n",
       " Row(artistId=973981, trackId=881729, norm_count=1.0),\n",
       " Row(artistId=974353, trackId=831094, norm_count=0.3816793893129771),\n",
       " Row(artistId=974353, trackId=823644, norm_count=0.12213740458015267),\n",
       " Row(artistId=974353, trackId=806932, norm_count=0.06870229007633588),\n",
       " Row(artistId=974353, trackId=958402, norm_count=0.06870229007633588),\n",
       " Row(artistId=974353, trackId=837976, norm_count=0.04580152671755725),\n",
       " Row(artistId=974353, trackId=872307, norm_count=0.03816793893129771),\n",
       " Row(artistId=974353, trackId=810478, norm_count=0.030534351145038167),\n",
       " Row(artistId=974353, trackId=808735, norm_count=0.022900763358778626),\n",
       " Row(artistId=974353, trackId=952238, norm_count=0.015267175572519083),\n",
       " Row(artistId=974353, trackId=917233, norm_count=0.015267175572519083),\n",
       " Row(artistId=974353, trackId=918270, norm_count=0.015267175572519083),\n",
       " Row(artistId=974353, trackId=946407, norm_count=0.015267175572519083),\n",
       " Row(artistId=974353, trackId=851040, norm_count=0.015267175572519083),\n",
       " Row(artistId=974353, trackId=961880, norm_count=0.015267175572519083),\n",
       " Row(artistId=974353, trackId=960917, norm_count=0.007633587786259542)]"
      ]
     },
     "execution_count": 68,
     "metadata": {},
     "output_type": "execute_result"
    }
   ],
   "source": [
    "artist_track_norm.take(50)"
   ]
  },
  {
   "cell_type": "code",
   "execution_count": 71,
   "metadata": {},
   "outputs": [],
   "source": [
    "window = Window.orderBy(f.col('norm_count').desc())\n",
    "    \n",
    "artist_Track_List = artist_track_norm.withColumn('position', f.rank().over(window)) \\\n",
    "    .filter(f.col('position') < 40) \\\n",
    "    .orderBy('artistId', 'trackId') \\\n",
    "    .select('artistId', 'trackId') \\\n",
    "    .take(40)"
   ]
  },
  {
   "cell_type": "code",
   "execution_count": 72,
   "metadata": {},
   "outputs": [
    {
     "name": "stdout",
     "output_type": "stream",
     "text": [
      "967993 869415\n",
      "967998 947428\n",
      "968004 927380\n",
      "968017 859321\n",
      "968022 852786\n",
      "968034 807671\n",
      "968038 964150\n",
      "968042 835935\n",
      "968043 913568\n",
      "968046 935077\n",
      "968047 806127\n",
      "968065 907906\n",
      "968073 964586\n",
      "968086 813446\n",
      "968092 837129\n",
      "968118 914441\n",
      "968125 821410\n",
      "968140 953008\n",
      "968148 877445\n",
      "968161 809793\n",
      "968163 803065\n",
      "968168 876119\n",
      "968189 858639\n",
      "968221 896937\n",
      "968224 892880\n",
      "968232 825536\n",
      "968237 932845\n",
      "968238 939177\n",
      "968241 879045\n",
      "968242 911250\n",
      "968248 953554\n",
      "968255 808494\n",
      "968259 880230\n",
      "968265 950148\n",
      "968266 824437\n",
      "968269 913243\n",
      "968272 816049\n",
      "968278 946743\n",
      "968285 847460\n",
      "968286 940006\n"
     ]
    }
   ],
   "source": [
    "for val in artist_Track_List:\n",
    "    print(\"%s %s\" % val)"
   ]
  }
 ],
 "metadata": {
  "kernelspec": {
   "display_name": "Python 3",
   "language": "python",
   "name": "python3"
  },
  "language_info": {
   "codemirror_mode": {
    "name": "ipython",
    "version": 3
   },
   "file_extension": ".py",
   "mimetype": "text/x-python",
   "name": "python",
   "nbconvert_exporter": "python",
   "pygments_lexer": "ipython3",
   "version": "3.6.6"
  }
 },
 "nbformat": 4,
 "nbformat_minor": 2
}
